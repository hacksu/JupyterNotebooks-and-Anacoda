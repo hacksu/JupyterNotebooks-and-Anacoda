{
 "cells": [
  {
   "cell_type": "markdown",
   "id": "e2eab327",
   "metadata": {},
   "source": [
    "# Getting Spotify data for the album 'Little Dark Age'\n",
    "### Code borrowed from Dr. David Silva's [repo](https://github.com/dataesilva/22110-FA21) from the EMAT 22110 Class "
   ]
  },
  {
   "cell_type": "markdown",
   "id": "8e8cf990",
   "metadata": {},
   "source": [
    "Importing necessary packages"
   ]
  },
  {
   "cell_type": "code",
   "execution_count": 42,
   "id": "114c61b3",
   "metadata": {},
   "outputs": [],
   "source": [
    "import pandas as pd\n",
    "import requests\n",
    "import base64\n",
    "import six\n",
    "import json\n",
    "from matplotlib import pyplot as plt"
   ]
  },
  {
   "cell_type": "markdown",
   "id": "9600f371",
   "metadata": {},
   "source": [
    "Reading in tokens to access the Spotify API"
   ]
  },
  {
   "cell_type": "code",
   "execution_count": 2,
   "id": "067722c0",
   "metadata": {},
   "outputs": [],
   "source": [
    "tokens = pd.read_csv('spotifyAPI.txt', sep = '\\t', header = None).T\n",
    "tokens.columns = tokens.iloc[0]"
   ]
  },
  {
   "cell_type": "markdown",
   "id": "f0fe7387",
   "metadata": {},
   "source": [
    "Formatting tokens variable to be readable for the functions"
   ]
  },
  {
   "cell_type": "code",
   "execution_count": 3,
   "id": "8ab678ff",
   "metadata": {},
   "outputs": [],
   "source": [
    "tokens = tokens [1:]"
   ]
  },
  {
   "cell_type": "markdown",
   "id": "e72e7385",
   "metadata": {},
   "source": [
    "Creates header to connect to the client server with token information"
   ]
  },
  {
   "cell_type": "code",
   "execution_count": 5,
   "id": "74b4a404",
   "metadata": {},
   "outputs": [],
   "source": [
    "def start_session_headers(client_id, client_secret):\n",
    "    client_cred = base64.b64encode(str(client_id + \":\" + client_secret).encode('ascii'))\n",
    "    header = {'Authorization': 'Basic %s' % (client_cred.decode('ascii'))}\n",
    "    return header"
   ]
  },
  {
   "cell_type": "markdown",
   "id": "537ab236",
   "metadata": {},
   "source": [
    "Connects to the client on the Spotify server to get information"
   ]
  },
  {
   "cell_type": "code",
   "execution_count": 6,
   "id": "a6b8f6bd",
   "metadata": {},
   "outputs": [],
   "source": [
    "def connect_to_client_cred(url, header):\n",
    "        payload = {'grant_type' : 'client_credentials'}\n",
    "        response = requests.request(\"POST\", url, headers = header, data = payload )\n",
    "        print(response.status_code)\n",
    "        if response.status_code != 200:\n",
    "            raise Exception(response.status_code, response.text)\n",
    "        return response.json()"
   ]
  },
  {
   "cell_type": "markdown",
   "id": "3fd5447a",
   "metadata": {},
   "source": [
    "Gets access token from the client to be able to call the API"
   ]
  },
  {
   "cell_type": "code",
   "execution_count": 7,
   "id": "2df51dfa",
   "metadata": {},
   "outputs": [],
   "source": [
    "def get_access_token(client_id, client_secret):\n",
    "    url = \"https://accounts.spotify.com/api/token\"\n",
    "    header = start_session_headers(client_id, client_secret)\n",
    "    json_response = connect_to_client_cred(url, header)\n",
    "    return json_response"
   ]
  },
  {
   "cell_type": "markdown",
   "id": "3608f31b",
   "metadata": {},
   "source": [
    "Creates 'session_token' variable to actually call the API in below functions"
   ]
  },
  {
   "cell_type": "code",
   "execution_count": 8,
   "id": "cd1eaf3c",
   "metadata": {
    "scrolled": true
   },
   "outputs": [
    {
     "name": "stdout",
     "output_type": "stream",
     "text": [
      "200\n"
     ]
    }
   ],
   "source": [
    "session_token = get_access_token(tokens['clientID'].iloc[0], tokens['clientSecret'].iloc[0])"
   ]
  },
  {
   "cell_type": "markdown",
   "id": "5ba7d763",
   "metadata": {},
   "source": [
    "Creates new header to call the API"
   ]
  },
  {
   "cell_type": "code",
   "execution_count": 13,
   "id": "247da246",
   "metadata": {},
   "outputs": [],
   "source": [
    "def create_header(session_token):\n",
    "    headers = {\"Authorization\": \"Bearer {}\".format(session_token)}\n",
    "    return headers"
   ]
  },
  {
   "cell_type": "markdown",
   "id": "c7416eaf",
   "metadata": {},
   "source": [
    "Connecting to the API"
   ]
  },
  {
   "cell_type": "code",
   "execution_count": 14,
   "id": "0dc7de2d",
   "metadata": {},
   "outputs": [],
   "source": [
    "def connect_to_endpoint(url, headers):\n",
    "    response = requests.request(\"GET\", url, headers = headers)\n",
    "    print(response.status_code)\n",
    "    if response.status_code != 200:\n",
    "        raise Exception(response.status_code, response.text)\n",
    "    return response.json()"
   ]
  },
  {
   "cell_type": "markdown",
   "id": "5b3a4e22",
   "metadata": {},
   "source": [
    "Function that gets information on an album available on Spotify through the URI variable"
   ]
  },
  {
   "cell_type": "code",
   "execution_count": 15,
   "id": "d215f565",
   "metadata": {},
   "outputs": [],
   "source": [
    "def get_an_album(album_id):\n",
    "    url = 'https://api.spotify.com/v1/albums/{}'.format(album_id)\n",
    "    header = create_header(session_token['access_token'])\n",
    "    json_response = connect_to_endpoint(url, header)\n",
    "    return json_response"
   ]
  },
  {
   "cell_type": "markdown",
   "id": "f707320a",
   "metadata": {},
   "source": [
    "Function that gets information about a track available on Spotify through the URI variable"
   ]
  },
  {
   "cell_type": "code",
   "execution_count": 16,
   "id": "16fba68d",
   "metadata": {},
   "outputs": [],
   "source": [
    "def get_a_track(track_id):\n",
    "    url = 'https://api.spotify.com/v1/tracks/{}'.format(track_id)\n",
    "    header = create_header(session_token['access_token'])\n",
    "    json_response = connect_to_endpoint(url, header)\n",
    "    return json_response"
   ]
  },
  {
   "cell_type": "markdown",
   "id": "3038a3fc",
   "metadata": {},
   "source": [
    "Calls all the above functions to be able to get information on the album Little Dark Age"
   ]
  },
  {
   "cell_type": "code",
   "execution_count": 17,
   "id": "cc951c56",
   "metadata": {
    "scrolled": true
   },
   "outputs": [
    {
     "name": "stdout",
     "output_type": "stream",
     "text": [
      "200\n"
     ]
    }
   ],
   "source": [
    "littleDarkAge = get_an_album('7GjVWG39IOj4viyWplJV4H')"
   ]
  },
  {
   "cell_type": "markdown",
   "id": "3645c4bb",
   "metadata": {},
   "source": [
    "Looks at the keys from the json in the API call response to determine how to make the Data Frame"
   ]
  },
  {
   "cell_type": "code",
   "execution_count": 18,
   "id": "4cc8d376",
   "metadata": {
    "scrolled": true
   },
   "outputs": [
    {
     "data": {
      "text/plain": [
       "dict_keys(['album_type', 'artists', 'available_markets', 'copyrights', 'external_ids', 'external_urls', 'genres', 'href', 'id', 'images', 'label', 'name', 'popularity', 'release_date', 'release_date_precision', 'total_tracks', 'tracks', 'type', 'uri'])"
      ]
     },
     "execution_count": 18,
     "metadata": {},
     "output_type": "execute_result"
    }
   ],
   "source": [
    "littleDarkAge.keys()"
   ]
  },
  {
   "cell_type": "markdown",
   "id": "35813deb",
   "metadata": {},
   "source": [
    "Gets data on each individual track from the Little Dark Age album"
   ]
  },
  {
   "cell_type": "code",
   "execution_count": 28,
   "id": "17222daa",
   "metadata": {},
   "outputs": [],
   "source": [
    "trackData = littleDarkAge['tracks']"
   ]
  },
  {
   "cell_type": "markdown",
   "id": "a404c103",
   "metadata": {},
   "source": [
    "Creates a Data Frame with all of the information about the tracks from the album API call"
   ]
  },
  {
   "cell_type": "code",
   "execution_count": 33,
   "id": "ccd30db6",
   "metadata": {},
   "outputs": [],
   "source": [
    "trackDataDf = pd.DataFrame(trackData['items'])"
   ]
  },
  {
   "cell_type": "markdown",
   "id": "1239e2a3",
   "metadata": {},
   "source": [
    "Creates a Data Frame with only the track name and track URI"
   ]
  },
  {
   "cell_type": "code",
   "execution_count": 37,
   "id": "4fd0dd91",
   "metadata": {},
   "outputs": [],
   "source": [
    "songNames = trackDataDf[['name', 'uri']]"
   ]
  },
  {
   "cell_type": "code",
   "execution_count": 38,
   "id": "0678b280",
   "metadata": {
    "scrolled": true
   },
   "outputs": [
    {
     "data": {
      "text/html": [
       "<div>\n",
       "<style scoped>\n",
       "    .dataframe tbody tr th:only-of-type {\n",
       "        vertical-align: middle;\n",
       "    }\n",
       "\n",
       "    .dataframe tbody tr th {\n",
       "        vertical-align: top;\n",
       "    }\n",
       "\n",
       "    .dataframe thead th {\n",
       "        text-align: right;\n",
       "    }\n",
       "</style>\n",
       "<table border=\"1\" class=\"dataframe\">\n",
       "  <thead>\n",
       "    <tr style=\"text-align: right;\">\n",
       "      <th></th>\n",
       "      <th>name</th>\n",
       "      <th>uri</th>\n",
       "    </tr>\n",
       "  </thead>\n",
       "  <tbody>\n",
       "    <tr>\n",
       "      <th>0</th>\n",
       "      <td>She Works Out Too Much</td>\n",
       "      <td>spotify:track:3XOKU8CKSiQsuQHD5vhzo5</td>\n",
       "    </tr>\n",
       "    <tr>\n",
       "      <th>1</th>\n",
       "      <td>Little Dark Age</td>\n",
       "      <td>spotify:track:2Y0iGXY6m6immVb2ktbseM</td>\n",
       "    </tr>\n",
       "    <tr>\n",
       "      <th>2</th>\n",
       "      <td>When You Die</td>\n",
       "      <td>spotify:track:3td69vL9Py7Ai9wfXYnvji</td>\n",
       "    </tr>\n",
       "    <tr>\n",
       "      <th>3</th>\n",
       "      <td>Me and Michael</td>\n",
       "      <td>spotify:track:0t4z0WaQomQqPONghWn8c2</td>\n",
       "    </tr>\n",
       "    <tr>\n",
       "      <th>4</th>\n",
       "      <td>TSLAMP</td>\n",
       "      <td>spotify:track:43rJQjd6zfyTP58TNI9JAi</td>\n",
       "    </tr>\n",
       "    <tr>\n",
       "      <th>5</th>\n",
       "      <td>James</td>\n",
       "      <td>spotify:track:54hdBH6z6hMBUpC9fAMs3s</td>\n",
       "    </tr>\n",
       "    <tr>\n",
       "      <th>6</th>\n",
       "      <td>Days That Got Away</td>\n",
       "      <td>spotify:track:5J2SAAtyfFXOsctaYiUuLO</td>\n",
       "    </tr>\n",
       "    <tr>\n",
       "      <th>7</th>\n",
       "      <td>One Thing Left to Try</td>\n",
       "      <td>spotify:track:52pWggDlN5mVeX111i06PP</td>\n",
       "    </tr>\n",
       "    <tr>\n",
       "      <th>8</th>\n",
       "      <td>When You're Small</td>\n",
       "      <td>spotify:track:0fokoG1PTmfQr6HrBoKzo1</td>\n",
       "    </tr>\n",
       "    <tr>\n",
       "      <th>9</th>\n",
       "      <td>Hand It Over</td>\n",
       "      <td>spotify:track:1s2oewEkFG9eF9Mq7MyvCV</td>\n",
       "    </tr>\n",
       "  </tbody>\n",
       "</table>\n",
       "</div>"
      ],
      "text/plain": [
       "                     name                                   uri\n",
       "0  She Works Out Too Much  spotify:track:3XOKU8CKSiQsuQHD5vhzo5\n",
       "1         Little Dark Age  spotify:track:2Y0iGXY6m6immVb2ktbseM\n",
       "2            When You Die  spotify:track:3td69vL9Py7Ai9wfXYnvji\n",
       "3          Me and Michael  spotify:track:0t4z0WaQomQqPONghWn8c2\n",
       "4                  TSLAMP  spotify:track:43rJQjd6zfyTP58TNI9JAi\n",
       "5                   James  spotify:track:54hdBH6z6hMBUpC9fAMs3s\n",
       "6      Days That Got Away  spotify:track:5J2SAAtyfFXOsctaYiUuLO\n",
       "7   One Thing Left to Try  spotify:track:52pWggDlN5mVeX111i06PP\n",
       "8       When You're Small  spotify:track:0fokoG1PTmfQr6HrBoKzo1\n",
       "9            Hand It Over  spotify:track:1s2oewEkFG9eF9Mq7MyvCV"
      ]
     },
     "execution_count": 38,
     "metadata": {},
     "output_type": "execute_result"
    }
   ],
   "source": [
    "songNames"
   ]
  },
  {
   "cell_type": "markdown",
   "id": "c2762685",
   "metadata": {},
   "source": [
    "Calls the Track API to get information on each track in the album"
   ]
  },
  {
   "cell_type": "code",
   "execution_count": 23,
   "id": "c354a646",
   "metadata": {},
   "outputs": [],
   "source": [
    "def track_audio_features(id):\n",
    "    url = 'https://api.spotify.com/v1/audio-features/{}'.format(id)\n",
    "    header = create_header(session_token['access_token'])\n",
    "    json_response = connect_to_endpoint(url, header)\n",
    "    return json_response"
   ]
  },
  {
   "cell_type": "markdown",
   "id": "f2ec5b38",
   "metadata": {},
   "source": [
    "Calling the track_audio_features function on each track ID in the album"
   ]
  },
  {
   "cell_type": "code",
   "execution_count": 24,
   "id": "d513e80e",
   "metadata": {
    "scrolled": true
   },
   "outputs": [
    {
     "name": "stdout",
     "output_type": "stream",
     "text": [
      "200\n",
      "200\n",
      "200\n",
      "200\n",
      "200\n",
      "200\n",
      "200\n",
      "200\n",
      "200\n",
      "200\n"
     ]
    }
   ],
   "source": [
    "songInfo = [track_audio_features(x['id']) for x in littleDarkAge['tracks']['items']]"
   ]
  },
  {
   "cell_type": "markdown",
   "id": "fb282a8e",
   "metadata": {},
   "source": [
    "Creating a Data Frame based on the returned information on each track"
   ]
  },
  {
   "cell_type": "code",
   "execution_count": 26,
   "id": "a8043da5",
   "metadata": {},
   "outputs": [],
   "source": [
    "songInfoDf = pd.DataFrame(songInfo)"
   ]
  },
  {
   "cell_type": "code",
   "execution_count": 27,
   "id": "15014b7b",
   "metadata": {},
   "outputs": [
    {
     "data": {
      "text/html": [
       "<div>\n",
       "<style scoped>\n",
       "    .dataframe tbody tr th:only-of-type {\n",
       "        vertical-align: middle;\n",
       "    }\n",
       "\n",
       "    .dataframe tbody tr th {\n",
       "        vertical-align: top;\n",
       "    }\n",
       "\n",
       "    .dataframe thead th {\n",
       "        text-align: right;\n",
       "    }\n",
       "</style>\n",
       "<table border=\"1\" class=\"dataframe\">\n",
       "  <thead>\n",
       "    <tr style=\"text-align: right;\">\n",
       "      <th></th>\n",
       "      <th>danceability</th>\n",
       "      <th>energy</th>\n",
       "      <th>key</th>\n",
       "      <th>loudness</th>\n",
       "      <th>mode</th>\n",
       "      <th>speechiness</th>\n",
       "      <th>acousticness</th>\n",
       "      <th>instrumentalness</th>\n",
       "      <th>liveness</th>\n",
       "      <th>valence</th>\n",
       "      <th>tempo</th>\n",
       "      <th>type</th>\n",
       "      <th>id</th>\n",
       "      <th>uri</th>\n",
       "      <th>track_href</th>\n",
       "      <th>analysis_url</th>\n",
       "      <th>duration_ms</th>\n",
       "      <th>time_signature</th>\n",
       "    </tr>\n",
       "  </thead>\n",
       "  <tbody>\n",
       "    <tr>\n",
       "      <th>0</th>\n",
       "      <td>0.633</td>\n",
       "      <td>0.919</td>\n",
       "      <td>5</td>\n",
       "      <td>-6.208</td>\n",
       "      <td>0</td>\n",
       "      <td>0.0343</td>\n",
       "      <td>0.00596</td>\n",
       "      <td>0.273000</td>\n",
       "      <td>0.430</td>\n",
       "      <td>0.805</td>\n",
       "      <td>147.970</td>\n",
       "      <td>audio_features</td>\n",
       "      <td>3XOKU8CKSiQsuQHD5vhzo5</td>\n",
       "      <td>spotify:track:3XOKU8CKSiQsuQHD5vhzo5</td>\n",
       "      <td>https://api.spotify.com/v1/tracks/3XOKU8CKSiQs...</td>\n",
       "      <td>https://api.spotify.com/v1/audio-analysis/3XOK...</td>\n",
       "      <td>278387</td>\n",
       "      <td>4</td>\n",
       "    </tr>\n",
       "    <tr>\n",
       "      <th>1</th>\n",
       "      <td>0.705</td>\n",
       "      <td>0.712</td>\n",
       "      <td>6</td>\n",
       "      <td>-6.156</td>\n",
       "      <td>1</td>\n",
       "      <td>0.0385</td>\n",
       "      <td>0.01020</td>\n",
       "      <td>0.000855</td>\n",
       "      <td>0.100</td>\n",
       "      <td>0.620</td>\n",
       "      <td>97.512</td>\n",
       "      <td>audio_features</td>\n",
       "      <td>2Y0iGXY6m6immVb2ktbseM</td>\n",
       "      <td>spotify:track:2Y0iGXY6m6immVb2ktbseM</td>\n",
       "      <td>https://api.spotify.com/v1/tracks/2Y0iGXY6m6im...</td>\n",
       "      <td>https://api.spotify.com/v1/audio-analysis/2Y0i...</td>\n",
       "      <td>299960</td>\n",
       "      <td>4</td>\n",
       "    </tr>\n",
       "    <tr>\n",
       "      <th>2</th>\n",
       "      <td>0.645</td>\n",
       "      <td>0.938</td>\n",
       "      <td>11</td>\n",
       "      <td>-4.557</td>\n",
       "      <td>0</td>\n",
       "      <td>0.0391</td>\n",
       "      <td>0.09460</td>\n",
       "      <td>0.022600</td>\n",
       "      <td>0.159</td>\n",
       "      <td>0.495</td>\n",
       "      <td>140.886</td>\n",
       "      <td>audio_features</td>\n",
       "      <td>3td69vL9Py7Ai9wfXYnvji</td>\n",
       "      <td>spotify:track:3td69vL9Py7Ai9wfXYnvji</td>\n",
       "      <td>https://api.spotify.com/v1/tracks/3td69vL9Py7A...</td>\n",
       "      <td>https://api.spotify.com/v1/audio-analysis/3td6...</td>\n",
       "      <td>263880</td>\n",
       "      <td>4</td>\n",
       "    </tr>\n",
       "    <tr>\n",
       "      <th>3</th>\n",
       "      <td>0.628</td>\n",
       "      <td>0.841</td>\n",
       "      <td>9</td>\n",
       "      <td>-4.583</td>\n",
       "      <td>1</td>\n",
       "      <td>0.0268</td>\n",
       "      <td>0.02850</td>\n",
       "      <td>0.003320</td>\n",
       "      <td>0.254</td>\n",
       "      <td>0.706</td>\n",
       "      <td>111.985</td>\n",
       "      <td>audio_features</td>\n",
       "      <td>0t4z0WaQomQqPONghWn8c2</td>\n",
       "      <td>spotify:track:0t4z0WaQomQqPONghWn8c2</td>\n",
       "      <td>https://api.spotify.com/v1/tracks/0t4z0WaQomQq...</td>\n",
       "      <td>https://api.spotify.com/v1/audio-analysis/0t4z...</td>\n",
       "      <td>289853</td>\n",
       "      <td>4</td>\n",
       "    </tr>\n",
       "    <tr>\n",
       "      <th>4</th>\n",
       "      <td>0.602</td>\n",
       "      <td>0.879</td>\n",
       "      <td>9</td>\n",
       "      <td>-5.283</td>\n",
       "      <td>0</td>\n",
       "      <td>0.0994</td>\n",
       "      <td>0.22000</td>\n",
       "      <td>0.000236</td>\n",
       "      <td>0.107</td>\n",
       "      <td>0.733</td>\n",
       "      <td>174.110</td>\n",
       "      <td>audio_features</td>\n",
       "      <td>43rJQjd6zfyTP58TNI9JAi</td>\n",
       "      <td>spotify:track:43rJQjd6zfyTP58TNI9JAi</td>\n",
       "      <td>https://api.spotify.com/v1/tracks/43rJQjd6zfyT...</td>\n",
       "      <td>https://api.spotify.com/v1/audio-analysis/43rJ...</td>\n",
       "      <td>270013</td>\n",
       "      <td>4</td>\n",
       "    </tr>\n",
       "    <tr>\n",
       "      <th>5</th>\n",
       "      <td>0.515</td>\n",
       "      <td>0.898</td>\n",
       "      <td>8</td>\n",
       "      <td>-6.682</td>\n",
       "      <td>1</td>\n",
       "      <td>0.0291</td>\n",
       "      <td>0.12300</td>\n",
       "      <td>0.380000</td>\n",
       "      <td>0.199</td>\n",
       "      <td>0.778</td>\n",
       "      <td>113.983</td>\n",
       "      <td>audio_features</td>\n",
       "      <td>54hdBH6z6hMBUpC9fAMs3s</td>\n",
       "      <td>spotify:track:54hdBH6z6hMBUpC9fAMs3s</td>\n",
       "      <td>https://api.spotify.com/v1/tracks/54hdBH6z6hMB...</td>\n",
       "      <td>https://api.spotify.com/v1/audio-analysis/54hd...</td>\n",
       "      <td>232173</td>\n",
       "      <td>4</td>\n",
       "    </tr>\n",
       "    <tr>\n",
       "      <th>6</th>\n",
       "      <td>0.667</td>\n",
       "      <td>0.782</td>\n",
       "      <td>7</td>\n",
       "      <td>-7.681</td>\n",
       "      <td>0</td>\n",
       "      <td>0.0318</td>\n",
       "      <td>0.05120</td>\n",
       "      <td>0.896000</td>\n",
       "      <td>0.645</td>\n",
       "      <td>0.886</td>\n",
       "      <td>132.983</td>\n",
       "      <td>audio_features</td>\n",
       "      <td>5J2SAAtyfFXOsctaYiUuLO</td>\n",
       "      <td>spotify:track:5J2SAAtyfFXOsctaYiUuLO</td>\n",
       "      <td>https://api.spotify.com/v1/tracks/5J2SAAtyfFXO...</td>\n",
       "      <td>https://api.spotify.com/v1/audio-analysis/5J2S...</td>\n",
       "      <td>284547</td>\n",
       "      <td>3</td>\n",
       "    </tr>\n",
       "    <tr>\n",
       "      <th>7</th>\n",
       "      <td>0.576</td>\n",
       "      <td>0.940</td>\n",
       "      <td>8</td>\n",
       "      <td>-4.541</td>\n",
       "      <td>1</td>\n",
       "      <td>0.0445</td>\n",
       "      <td>0.00678</td>\n",
       "      <td>0.000660</td>\n",
       "      <td>0.308</td>\n",
       "      <td>0.667</td>\n",
       "      <td>128.017</td>\n",
       "      <td>audio_features</td>\n",
       "      <td>52pWggDlN5mVeX111i06PP</td>\n",
       "      <td>spotify:track:52pWggDlN5mVeX111i06PP</td>\n",
       "      <td>https://api.spotify.com/v1/tracks/52pWggDlN5mV...</td>\n",
       "      <td>https://api.spotify.com/v1/audio-analysis/52pW...</td>\n",
       "      <td>260347</td>\n",
       "      <td>4</td>\n",
       "    </tr>\n",
       "    <tr>\n",
       "      <th>8</th>\n",
       "      <td>0.465</td>\n",
       "      <td>0.465</td>\n",
       "      <td>2</td>\n",
       "      <td>-7.792</td>\n",
       "      <td>1</td>\n",
       "      <td>0.0276</td>\n",
       "      <td>0.61200</td>\n",
       "      <td>0.006390</td>\n",
       "      <td>0.223</td>\n",
       "      <td>0.242</td>\n",
       "      <td>140.001</td>\n",
       "      <td>audio_features</td>\n",
       "      <td>0fokoG1PTmfQr6HrBoKzo1</td>\n",
       "      <td>spotify:track:0fokoG1PTmfQr6HrBoKzo1</td>\n",
       "      <td>https://api.spotify.com/v1/tracks/0fokoG1PTmfQ...</td>\n",
       "      <td>https://api.spotify.com/v1/audio-analysis/0fok...</td>\n",
       "      <td>210880</td>\n",
       "      <td>4</td>\n",
       "    </tr>\n",
       "    <tr>\n",
       "      <th>9</th>\n",
       "      <td>0.378</td>\n",
       "      <td>0.614</td>\n",
       "      <td>1</td>\n",
       "      <td>-8.941</td>\n",
       "      <td>0</td>\n",
       "      <td>0.0387</td>\n",
       "      <td>0.70600</td>\n",
       "      <td>0.007660</td>\n",
       "      <td>0.129</td>\n",
       "      <td>0.481</td>\n",
       "      <td>175.926</td>\n",
       "      <td>audio_features</td>\n",
       "      <td>1s2oewEkFG9eF9Mq7MyvCV</td>\n",
       "      <td>spotify:track:1s2oewEkFG9eF9Mq7MyvCV</td>\n",
       "      <td>https://api.spotify.com/v1/tracks/1s2oewEkFG9e...</td>\n",
       "      <td>https://api.spotify.com/v1/audio-analysis/1s2o...</td>\n",
       "      <td>253360</td>\n",
       "      <td>4</td>\n",
       "    </tr>\n",
       "  </tbody>\n",
       "</table>\n",
       "</div>"
      ],
      "text/plain": [
       "   danceability  energy  key  loudness  mode  speechiness  acousticness  \\\n",
       "0         0.633   0.919    5    -6.208     0       0.0343       0.00596   \n",
       "1         0.705   0.712    6    -6.156     1       0.0385       0.01020   \n",
       "2         0.645   0.938   11    -4.557     0       0.0391       0.09460   \n",
       "3         0.628   0.841    9    -4.583     1       0.0268       0.02850   \n",
       "4         0.602   0.879    9    -5.283     0       0.0994       0.22000   \n",
       "5         0.515   0.898    8    -6.682     1       0.0291       0.12300   \n",
       "6         0.667   0.782    7    -7.681     0       0.0318       0.05120   \n",
       "7         0.576   0.940    8    -4.541     1       0.0445       0.00678   \n",
       "8         0.465   0.465    2    -7.792     1       0.0276       0.61200   \n",
       "9         0.378   0.614    1    -8.941     0       0.0387       0.70600   \n",
       "\n",
       "   instrumentalness  liveness  valence    tempo            type  \\\n",
       "0          0.273000     0.430    0.805  147.970  audio_features   \n",
       "1          0.000855     0.100    0.620   97.512  audio_features   \n",
       "2          0.022600     0.159    0.495  140.886  audio_features   \n",
       "3          0.003320     0.254    0.706  111.985  audio_features   \n",
       "4          0.000236     0.107    0.733  174.110  audio_features   \n",
       "5          0.380000     0.199    0.778  113.983  audio_features   \n",
       "6          0.896000     0.645    0.886  132.983  audio_features   \n",
       "7          0.000660     0.308    0.667  128.017  audio_features   \n",
       "8          0.006390     0.223    0.242  140.001  audio_features   \n",
       "9          0.007660     0.129    0.481  175.926  audio_features   \n",
       "\n",
       "                       id                                   uri  \\\n",
       "0  3XOKU8CKSiQsuQHD5vhzo5  spotify:track:3XOKU8CKSiQsuQHD5vhzo5   \n",
       "1  2Y0iGXY6m6immVb2ktbseM  spotify:track:2Y0iGXY6m6immVb2ktbseM   \n",
       "2  3td69vL9Py7Ai9wfXYnvji  spotify:track:3td69vL9Py7Ai9wfXYnvji   \n",
       "3  0t4z0WaQomQqPONghWn8c2  spotify:track:0t4z0WaQomQqPONghWn8c2   \n",
       "4  43rJQjd6zfyTP58TNI9JAi  spotify:track:43rJQjd6zfyTP58TNI9JAi   \n",
       "5  54hdBH6z6hMBUpC9fAMs3s  spotify:track:54hdBH6z6hMBUpC9fAMs3s   \n",
       "6  5J2SAAtyfFXOsctaYiUuLO  spotify:track:5J2SAAtyfFXOsctaYiUuLO   \n",
       "7  52pWggDlN5mVeX111i06PP  spotify:track:52pWggDlN5mVeX111i06PP   \n",
       "8  0fokoG1PTmfQr6HrBoKzo1  spotify:track:0fokoG1PTmfQr6HrBoKzo1   \n",
       "9  1s2oewEkFG9eF9Mq7MyvCV  spotify:track:1s2oewEkFG9eF9Mq7MyvCV   \n",
       "\n",
       "                                          track_href  \\\n",
       "0  https://api.spotify.com/v1/tracks/3XOKU8CKSiQs...   \n",
       "1  https://api.spotify.com/v1/tracks/2Y0iGXY6m6im...   \n",
       "2  https://api.spotify.com/v1/tracks/3td69vL9Py7A...   \n",
       "3  https://api.spotify.com/v1/tracks/0t4z0WaQomQq...   \n",
       "4  https://api.spotify.com/v1/tracks/43rJQjd6zfyT...   \n",
       "5  https://api.spotify.com/v1/tracks/54hdBH6z6hMB...   \n",
       "6  https://api.spotify.com/v1/tracks/5J2SAAtyfFXO...   \n",
       "7  https://api.spotify.com/v1/tracks/52pWggDlN5mV...   \n",
       "8  https://api.spotify.com/v1/tracks/0fokoG1PTmfQ...   \n",
       "9  https://api.spotify.com/v1/tracks/1s2oewEkFG9e...   \n",
       "\n",
       "                                        analysis_url  duration_ms  \\\n",
       "0  https://api.spotify.com/v1/audio-analysis/3XOK...       278387   \n",
       "1  https://api.spotify.com/v1/audio-analysis/2Y0i...       299960   \n",
       "2  https://api.spotify.com/v1/audio-analysis/3td6...       263880   \n",
       "3  https://api.spotify.com/v1/audio-analysis/0t4z...       289853   \n",
       "4  https://api.spotify.com/v1/audio-analysis/43rJ...       270013   \n",
       "5  https://api.spotify.com/v1/audio-analysis/54hd...       232173   \n",
       "6  https://api.spotify.com/v1/audio-analysis/5J2S...       284547   \n",
       "7  https://api.spotify.com/v1/audio-analysis/52pW...       260347   \n",
       "8  https://api.spotify.com/v1/audio-analysis/0fok...       210880   \n",
       "9  https://api.spotify.com/v1/audio-analysis/1s2o...       253360   \n",
       "\n",
       "   time_signature  \n",
       "0               4  \n",
       "1               4  \n",
       "2               4  \n",
       "3               4  \n",
       "4               4  \n",
       "5               4  \n",
       "6               3  \n",
       "7               4  \n",
       "8               4  \n",
       "9               4  "
      ]
     },
     "execution_count": 27,
     "metadata": {},
     "output_type": "execute_result"
    }
   ],
   "source": [
    "songInfoDf"
   ]
  },
  {
   "cell_type": "markdown",
   "id": "b64960df",
   "metadata": {},
   "source": [
    "Adding a column for the name of the track to connect the track name to the other information available"
   ]
  },
  {
   "cell_type": "code",
   "execution_count": 39,
   "id": "d4ffeca5",
   "metadata": {},
   "outputs": [],
   "source": [
    "songInfoNamesDf = pd.merge(songInfoDf, songNames, left_on = \"uri\", right_on = 'uri', how = 'left').drop(\"uri\", axis = 1)"
   ]
  },
  {
   "cell_type": "code",
   "execution_count": 40,
   "id": "29aba0d1",
   "metadata": {
    "scrolled": true
   },
   "outputs": [
    {
     "data": {
      "text/html": [
       "<div>\n",
       "<style scoped>\n",
       "    .dataframe tbody tr th:only-of-type {\n",
       "        vertical-align: middle;\n",
       "    }\n",
       "\n",
       "    .dataframe tbody tr th {\n",
       "        vertical-align: top;\n",
       "    }\n",
       "\n",
       "    .dataframe thead th {\n",
       "        text-align: right;\n",
       "    }\n",
       "</style>\n",
       "<table border=\"1\" class=\"dataframe\">\n",
       "  <thead>\n",
       "    <tr style=\"text-align: right;\">\n",
       "      <th></th>\n",
       "      <th>danceability</th>\n",
       "      <th>energy</th>\n",
       "      <th>key</th>\n",
       "      <th>loudness</th>\n",
       "      <th>mode</th>\n",
       "      <th>speechiness</th>\n",
       "      <th>acousticness</th>\n",
       "      <th>instrumentalness</th>\n",
       "      <th>liveness</th>\n",
       "      <th>valence</th>\n",
       "      <th>tempo</th>\n",
       "      <th>type</th>\n",
       "      <th>id</th>\n",
       "      <th>track_href</th>\n",
       "      <th>analysis_url</th>\n",
       "      <th>duration_ms</th>\n",
       "      <th>time_signature</th>\n",
       "      <th>name</th>\n",
       "    </tr>\n",
       "  </thead>\n",
       "  <tbody>\n",
       "    <tr>\n",
       "      <th>0</th>\n",
       "      <td>0.633</td>\n",
       "      <td>0.919</td>\n",
       "      <td>5</td>\n",
       "      <td>-6.208</td>\n",
       "      <td>0</td>\n",
       "      <td>0.0343</td>\n",
       "      <td>0.00596</td>\n",
       "      <td>0.273000</td>\n",
       "      <td>0.430</td>\n",
       "      <td>0.805</td>\n",
       "      <td>147.970</td>\n",
       "      <td>audio_features</td>\n",
       "      <td>3XOKU8CKSiQsuQHD5vhzo5</td>\n",
       "      <td>https://api.spotify.com/v1/tracks/3XOKU8CKSiQs...</td>\n",
       "      <td>https://api.spotify.com/v1/audio-analysis/3XOK...</td>\n",
       "      <td>278387</td>\n",
       "      <td>4</td>\n",
       "      <td>She Works Out Too Much</td>\n",
       "    </tr>\n",
       "    <tr>\n",
       "      <th>1</th>\n",
       "      <td>0.705</td>\n",
       "      <td>0.712</td>\n",
       "      <td>6</td>\n",
       "      <td>-6.156</td>\n",
       "      <td>1</td>\n",
       "      <td>0.0385</td>\n",
       "      <td>0.01020</td>\n",
       "      <td>0.000855</td>\n",
       "      <td>0.100</td>\n",
       "      <td>0.620</td>\n",
       "      <td>97.512</td>\n",
       "      <td>audio_features</td>\n",
       "      <td>2Y0iGXY6m6immVb2ktbseM</td>\n",
       "      <td>https://api.spotify.com/v1/tracks/2Y0iGXY6m6im...</td>\n",
       "      <td>https://api.spotify.com/v1/audio-analysis/2Y0i...</td>\n",
       "      <td>299960</td>\n",
       "      <td>4</td>\n",
       "      <td>Little Dark Age</td>\n",
       "    </tr>\n",
       "    <tr>\n",
       "      <th>2</th>\n",
       "      <td>0.645</td>\n",
       "      <td>0.938</td>\n",
       "      <td>11</td>\n",
       "      <td>-4.557</td>\n",
       "      <td>0</td>\n",
       "      <td>0.0391</td>\n",
       "      <td>0.09460</td>\n",
       "      <td>0.022600</td>\n",
       "      <td>0.159</td>\n",
       "      <td>0.495</td>\n",
       "      <td>140.886</td>\n",
       "      <td>audio_features</td>\n",
       "      <td>3td69vL9Py7Ai9wfXYnvji</td>\n",
       "      <td>https://api.spotify.com/v1/tracks/3td69vL9Py7A...</td>\n",
       "      <td>https://api.spotify.com/v1/audio-analysis/3td6...</td>\n",
       "      <td>263880</td>\n",
       "      <td>4</td>\n",
       "      <td>When You Die</td>\n",
       "    </tr>\n",
       "    <tr>\n",
       "      <th>3</th>\n",
       "      <td>0.628</td>\n",
       "      <td>0.841</td>\n",
       "      <td>9</td>\n",
       "      <td>-4.583</td>\n",
       "      <td>1</td>\n",
       "      <td>0.0268</td>\n",
       "      <td>0.02850</td>\n",
       "      <td>0.003320</td>\n",
       "      <td>0.254</td>\n",
       "      <td>0.706</td>\n",
       "      <td>111.985</td>\n",
       "      <td>audio_features</td>\n",
       "      <td>0t4z0WaQomQqPONghWn8c2</td>\n",
       "      <td>https://api.spotify.com/v1/tracks/0t4z0WaQomQq...</td>\n",
       "      <td>https://api.spotify.com/v1/audio-analysis/0t4z...</td>\n",
       "      <td>289853</td>\n",
       "      <td>4</td>\n",
       "      <td>Me and Michael</td>\n",
       "    </tr>\n",
       "    <tr>\n",
       "      <th>4</th>\n",
       "      <td>0.602</td>\n",
       "      <td>0.879</td>\n",
       "      <td>9</td>\n",
       "      <td>-5.283</td>\n",
       "      <td>0</td>\n",
       "      <td>0.0994</td>\n",
       "      <td>0.22000</td>\n",
       "      <td>0.000236</td>\n",
       "      <td>0.107</td>\n",
       "      <td>0.733</td>\n",
       "      <td>174.110</td>\n",
       "      <td>audio_features</td>\n",
       "      <td>43rJQjd6zfyTP58TNI9JAi</td>\n",
       "      <td>https://api.spotify.com/v1/tracks/43rJQjd6zfyT...</td>\n",
       "      <td>https://api.spotify.com/v1/audio-analysis/43rJ...</td>\n",
       "      <td>270013</td>\n",
       "      <td>4</td>\n",
       "      <td>TSLAMP</td>\n",
       "    </tr>\n",
       "    <tr>\n",
       "      <th>5</th>\n",
       "      <td>0.515</td>\n",
       "      <td>0.898</td>\n",
       "      <td>8</td>\n",
       "      <td>-6.682</td>\n",
       "      <td>1</td>\n",
       "      <td>0.0291</td>\n",
       "      <td>0.12300</td>\n",
       "      <td>0.380000</td>\n",
       "      <td>0.199</td>\n",
       "      <td>0.778</td>\n",
       "      <td>113.983</td>\n",
       "      <td>audio_features</td>\n",
       "      <td>54hdBH6z6hMBUpC9fAMs3s</td>\n",
       "      <td>https://api.spotify.com/v1/tracks/54hdBH6z6hMB...</td>\n",
       "      <td>https://api.spotify.com/v1/audio-analysis/54hd...</td>\n",
       "      <td>232173</td>\n",
       "      <td>4</td>\n",
       "      <td>James</td>\n",
       "    </tr>\n",
       "    <tr>\n",
       "      <th>6</th>\n",
       "      <td>0.667</td>\n",
       "      <td>0.782</td>\n",
       "      <td>7</td>\n",
       "      <td>-7.681</td>\n",
       "      <td>0</td>\n",
       "      <td>0.0318</td>\n",
       "      <td>0.05120</td>\n",
       "      <td>0.896000</td>\n",
       "      <td>0.645</td>\n",
       "      <td>0.886</td>\n",
       "      <td>132.983</td>\n",
       "      <td>audio_features</td>\n",
       "      <td>5J2SAAtyfFXOsctaYiUuLO</td>\n",
       "      <td>https://api.spotify.com/v1/tracks/5J2SAAtyfFXO...</td>\n",
       "      <td>https://api.spotify.com/v1/audio-analysis/5J2S...</td>\n",
       "      <td>284547</td>\n",
       "      <td>3</td>\n",
       "      <td>Days That Got Away</td>\n",
       "    </tr>\n",
       "    <tr>\n",
       "      <th>7</th>\n",
       "      <td>0.576</td>\n",
       "      <td>0.940</td>\n",
       "      <td>8</td>\n",
       "      <td>-4.541</td>\n",
       "      <td>1</td>\n",
       "      <td>0.0445</td>\n",
       "      <td>0.00678</td>\n",
       "      <td>0.000660</td>\n",
       "      <td>0.308</td>\n",
       "      <td>0.667</td>\n",
       "      <td>128.017</td>\n",
       "      <td>audio_features</td>\n",
       "      <td>52pWggDlN5mVeX111i06PP</td>\n",
       "      <td>https://api.spotify.com/v1/tracks/52pWggDlN5mV...</td>\n",
       "      <td>https://api.spotify.com/v1/audio-analysis/52pW...</td>\n",
       "      <td>260347</td>\n",
       "      <td>4</td>\n",
       "      <td>One Thing Left to Try</td>\n",
       "    </tr>\n",
       "    <tr>\n",
       "      <th>8</th>\n",
       "      <td>0.465</td>\n",
       "      <td>0.465</td>\n",
       "      <td>2</td>\n",
       "      <td>-7.792</td>\n",
       "      <td>1</td>\n",
       "      <td>0.0276</td>\n",
       "      <td>0.61200</td>\n",
       "      <td>0.006390</td>\n",
       "      <td>0.223</td>\n",
       "      <td>0.242</td>\n",
       "      <td>140.001</td>\n",
       "      <td>audio_features</td>\n",
       "      <td>0fokoG1PTmfQr6HrBoKzo1</td>\n",
       "      <td>https://api.spotify.com/v1/tracks/0fokoG1PTmfQ...</td>\n",
       "      <td>https://api.spotify.com/v1/audio-analysis/0fok...</td>\n",
       "      <td>210880</td>\n",
       "      <td>4</td>\n",
       "      <td>When You're Small</td>\n",
       "    </tr>\n",
       "    <tr>\n",
       "      <th>9</th>\n",
       "      <td>0.378</td>\n",
       "      <td>0.614</td>\n",
       "      <td>1</td>\n",
       "      <td>-8.941</td>\n",
       "      <td>0</td>\n",
       "      <td>0.0387</td>\n",
       "      <td>0.70600</td>\n",
       "      <td>0.007660</td>\n",
       "      <td>0.129</td>\n",
       "      <td>0.481</td>\n",
       "      <td>175.926</td>\n",
       "      <td>audio_features</td>\n",
       "      <td>1s2oewEkFG9eF9Mq7MyvCV</td>\n",
       "      <td>https://api.spotify.com/v1/tracks/1s2oewEkFG9e...</td>\n",
       "      <td>https://api.spotify.com/v1/audio-analysis/1s2o...</td>\n",
       "      <td>253360</td>\n",
       "      <td>4</td>\n",
       "      <td>Hand It Over</td>\n",
       "    </tr>\n",
       "  </tbody>\n",
       "</table>\n",
       "</div>"
      ],
      "text/plain": [
       "   danceability  energy  key  loudness  mode  speechiness  acousticness  \\\n",
       "0         0.633   0.919    5    -6.208     0       0.0343       0.00596   \n",
       "1         0.705   0.712    6    -6.156     1       0.0385       0.01020   \n",
       "2         0.645   0.938   11    -4.557     0       0.0391       0.09460   \n",
       "3         0.628   0.841    9    -4.583     1       0.0268       0.02850   \n",
       "4         0.602   0.879    9    -5.283     0       0.0994       0.22000   \n",
       "5         0.515   0.898    8    -6.682     1       0.0291       0.12300   \n",
       "6         0.667   0.782    7    -7.681     0       0.0318       0.05120   \n",
       "7         0.576   0.940    8    -4.541     1       0.0445       0.00678   \n",
       "8         0.465   0.465    2    -7.792     1       0.0276       0.61200   \n",
       "9         0.378   0.614    1    -8.941     0       0.0387       0.70600   \n",
       "\n",
       "   instrumentalness  liveness  valence    tempo            type  \\\n",
       "0          0.273000     0.430    0.805  147.970  audio_features   \n",
       "1          0.000855     0.100    0.620   97.512  audio_features   \n",
       "2          0.022600     0.159    0.495  140.886  audio_features   \n",
       "3          0.003320     0.254    0.706  111.985  audio_features   \n",
       "4          0.000236     0.107    0.733  174.110  audio_features   \n",
       "5          0.380000     0.199    0.778  113.983  audio_features   \n",
       "6          0.896000     0.645    0.886  132.983  audio_features   \n",
       "7          0.000660     0.308    0.667  128.017  audio_features   \n",
       "8          0.006390     0.223    0.242  140.001  audio_features   \n",
       "9          0.007660     0.129    0.481  175.926  audio_features   \n",
       "\n",
       "                       id                                         track_href  \\\n",
       "0  3XOKU8CKSiQsuQHD5vhzo5  https://api.spotify.com/v1/tracks/3XOKU8CKSiQs...   \n",
       "1  2Y0iGXY6m6immVb2ktbseM  https://api.spotify.com/v1/tracks/2Y0iGXY6m6im...   \n",
       "2  3td69vL9Py7Ai9wfXYnvji  https://api.spotify.com/v1/tracks/3td69vL9Py7A...   \n",
       "3  0t4z0WaQomQqPONghWn8c2  https://api.spotify.com/v1/tracks/0t4z0WaQomQq...   \n",
       "4  43rJQjd6zfyTP58TNI9JAi  https://api.spotify.com/v1/tracks/43rJQjd6zfyT...   \n",
       "5  54hdBH6z6hMBUpC9fAMs3s  https://api.spotify.com/v1/tracks/54hdBH6z6hMB...   \n",
       "6  5J2SAAtyfFXOsctaYiUuLO  https://api.spotify.com/v1/tracks/5J2SAAtyfFXO...   \n",
       "7  52pWggDlN5mVeX111i06PP  https://api.spotify.com/v1/tracks/52pWggDlN5mV...   \n",
       "8  0fokoG1PTmfQr6HrBoKzo1  https://api.spotify.com/v1/tracks/0fokoG1PTmfQ...   \n",
       "9  1s2oewEkFG9eF9Mq7MyvCV  https://api.spotify.com/v1/tracks/1s2oewEkFG9e...   \n",
       "\n",
       "                                        analysis_url  duration_ms  \\\n",
       "0  https://api.spotify.com/v1/audio-analysis/3XOK...       278387   \n",
       "1  https://api.spotify.com/v1/audio-analysis/2Y0i...       299960   \n",
       "2  https://api.spotify.com/v1/audio-analysis/3td6...       263880   \n",
       "3  https://api.spotify.com/v1/audio-analysis/0t4z...       289853   \n",
       "4  https://api.spotify.com/v1/audio-analysis/43rJ...       270013   \n",
       "5  https://api.spotify.com/v1/audio-analysis/54hd...       232173   \n",
       "6  https://api.spotify.com/v1/audio-analysis/5J2S...       284547   \n",
       "7  https://api.spotify.com/v1/audio-analysis/52pW...       260347   \n",
       "8  https://api.spotify.com/v1/audio-analysis/0fok...       210880   \n",
       "9  https://api.spotify.com/v1/audio-analysis/1s2o...       253360   \n",
       "\n",
       "   time_signature                    name  \n",
       "0               4  She Works Out Too Much  \n",
       "1               4         Little Dark Age  \n",
       "2               4            When You Die  \n",
       "3               4          Me and Michael  \n",
       "4               4                  TSLAMP  \n",
       "5               4                   James  \n",
       "6               3      Days That Got Away  \n",
       "7               4   One Thing Left to Try  \n",
       "8               4       When You're Small  \n",
       "9               4            Hand It Over  "
      ]
     },
     "execution_count": 40,
     "metadata": {},
     "output_type": "execute_result"
    }
   ],
   "source": [
    "songInfoNamesDf"
   ]
  },
  {
   "cell_type": "markdown",
   "id": "e60cbe50",
   "metadata": {},
   "source": [
    "Exporting the Data Frame to use in the lesson!"
   ]
  },
  {
   "cell_type": "code",
   "execution_count": 46,
   "id": "5e0bfe5a",
   "metadata": {},
   "outputs": [],
   "source": [
    "songInfoNamesDf.to_csv(r\"C:\\Users\\kathm\\EMAT22110\\spotifyCSVData.csv\")"
   ]
  }
 ],
 "metadata": {
  "kernelspec": {
   "display_name": "Python 3 (ipykernel)",
   "language": "python",
   "name": "python3"
  },
  "language_info": {
   "codemirror_mode": {
    "name": "ipython",
    "version": 3
   },
   "file_extension": ".py",
   "mimetype": "text/x-python",
   "name": "python",
   "nbconvert_exporter": "python",
   "pygments_lexer": "ipython3",
   "version": "3.9.6"
  }
 },
 "nbformat": 4,
 "nbformat_minor": 5
}
